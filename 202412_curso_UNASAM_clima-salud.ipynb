{
 "cells": [
  {
   "cell_type": "markdown",
   "id": "056d7fd2-b57a-41fb-ab28-f4f7809076fd",
   "metadata": {},
   "source": [
    "# Sesión práctica: Clima y salud"
   ]
  },
  {
   "cell_type": "markdown",
   "id": "848c1917-dae2-46ee-91b9-8f7632e36edb",
   "metadata": {},
   "source": [
    "### Ana Casanueva Vicente y Rodrigo García Manzanas, 3 de diciembre de 2024"
   ]
  },
  {
   "cell_type": "markdown",
   "id": "b271cca7-8c67-4a81-9e7d-368ee3d4eab1",
   "metadata": {},
   "source": [
    "En esta práctica se muestra una introducción a la estimación de **estrés térmico**, como combinación de **temperatura y humedad**, usando datos de observaciones y de modelos climáticos.\n",
    "Además, como se ha visto en la sesión teórica, debido a que los modelos climáticos presentan ciertos sesgos sistemáticos, se han de aplicar **técnicas de ajuste o corrección de sesgos** antes de utilizarlos en  estudios de impactos, especialmente en aquellos que se relacionan con la superación de umbrales de ciertos índices, como en el caso de estŕes térmico."
   ]
  },
  {
   "cell_type": "markdown",
   "id": "680c107d-8d39-4ef3-90d7-b7f40f989f01",
   "metadata": {},
   "source": [
    "## 1. Preparación del entorno y carga de paquetes"
   ]
  },
  {
   "cell_type": "markdown",
   "id": "0826d4d3-5ac4-4ccc-968d-404cf4db6413",
   "metadata": {},
   "source": [
    "Para la lectura, manipulación y visualización de los datos climáticos se van a usar paquetes de `R` desarrollados por el Grupo de Meteorología de Santander (Universidad de Cantabria y CSIC), que forman el conjunto de paquetes de `climate4R` (https://github.com/SantanderMetGroup/climate4R, [Iturbide et al. 2019](https://doi.org/10.1016/j.envsoft.2018.09.009)). Estos paquetes permiten la lectura (remota o local, `loadeR`), transformaciones básicas como interpolaciones, generación de subconjuntos, etc. (`transformeR`), cálculo de índices climáticos (`climate4R.indices`), regionalización estadística (_downscaling_) y corección de sesgos (`downscaleR`) y representaciones gráficas (`visualizeR`). Todos estos paquetes ya están instalados en esta plataforma, por lo que directamente se cargarán al espacio de trabajo mediante la función `library`."
   ]
  },
  {
   "cell_type": "code",
   "execution_count": null,
   "id": "73955b3f",
   "metadata": {},
   "outputs": [],
   "source": [
    "rm(list=ls())\n",
    "graphics.off()\n",
    "library(loadeR) # para leer datos (función loadGridData)\n",
    "library(visualizeR) # para generar figuras (función spatialPlot)\n",
    "library(downscaleR) # para bias correction (función biasCorrection)\n",
    "library(transformeR) # para transformaciones, p.ej. subset (subsetDimension, subsetGrid), interpolar (interpGrid), etc.\n",
    "library(climate4R.indices) # para calcular índices, p.ej. indexGrid"
   ]
  },
  {
   "cell_type": "markdown",
   "id": "873edac9-666c-4c16-8704-579fa6910e8d",
   "metadata": {},
   "source": [
    "Para el cálculo de índices de estrés térmico se usará el paquete `HeatStress` (https://github.com/anacv/HeatStress), que se tiene que instalar previamente desde `GitHub` con el paquete `remotes`. La instalación solo se es necesaria la primera vez que se usan. Una vez instalamos y cargamos `HeatStress`, con la función `indexShow()` podemos ver los índices implementados, así como las variables que requieren como argumentos de entrada."
   ]
  },
  {
   "cell_type": "code",
   "execution_count": null,
   "id": "46741696-e214-448c-bac4-4ccd933344ef",
   "metadata": {},
   "outputs": [],
   "source": [
    "# install.packages(\"remotes\")\n",
    "# install.packages(\"assertthat\")"
   ]
  },
  {
   "cell_type": "code",
   "execution_count": null,
   "id": "51fcffc3-b41f-4708-ad9a-511bb4a883d7",
   "metadata": {},
   "outputs": [],
   "source": [
    "# library(remotes)\n",
    "# remotes::install_github(\"anacv/HeatStress\")"
   ]
  },
  {
   "cell_type": "code",
   "execution_count": null,
   "id": "0a1a4ddc-9497-40b5-8b5f-7af2eb2a31c3",
   "metadata": {},
   "outputs": [],
   "source": [
    "library(assertthat)\n",
    "library(HeatStress)\n",
    "indexShow()\n",
    "?swbgt"
   ]
  },
  {
   "cell_type": "markdown",
   "id": "921cab78-d8e1-428a-baa3-5ddabad43e59",
   "metadata": {},
   "source": [
    "## 2. Lectura de datos de (pseudo)observaciones"
   ]
  },
  {
   "cell_type": "markdown",
   "id": "ea0dcc8b-2f6b-4ae4-ae35-50e88721b467",
   "metadata": {},
   "source": [
    "En cualquier estudio climático el punto de partida son los datos de observaciones, que nos permiten caracterizar las condiciones climáticas de un lugar y estudiar tendencias, así como evaluar modelos (i.e. cuantificar cuán buenos son), entre otros. En esta práctica vamos a trabajar con datos de modelos climáticos y observaciones sobre un dominio rectangular que cubre Perú. Los datos de observaciones _in situ_ son a menudo poco accesibles y se tienen en localizaciones puntuales. Por este motivo a menudo se usan datos _en rejilla_ que cubren todo el globo o una región determinada. Estas rejillas se elaboran con métodos de interpolación a partir de las observaciones _in situ_ o, como en el caso de los reanálisis, son el resultado de un modelo climático que se alimenta de forma continua con observaciones _in situ_. Una ventaja de este tipo de datos es que proporciona un amplio conjunto de variables meteorológicas, como en nuestro caso, en que usaremos temperatura y humedad. \n",
    "Los datos que usaremos como observaciones son datos del reanálisis de última generación [ERA5](https://cds.climate.copernicus.eu/datasets/derived-era5-pressure-levels-daily-statistics?tab=overview), desarrollado por el Centro Europeo ECMWF dentro el programa Copernicus, que proporciona datos globales y se actualiza casi a tiempo real."
   ]
  },
  {
   "cell_type": "markdown",
   "id": "419bb44a-bc20-4765-9bbd-0db7d8c84b45",
   "metadata": {},
   "source": [
    "Para facilitar la lectura, para esta práctica se ha seleccionado una porción de ERA5 que cubre el dominio de estudio, y que leemos con el comando `load` usando una ruta local donde se encuentran los datos. Los datos están en una rejilla regular con resolución espacial de 0.25ºx0.25º, que equivale aproximadamente a 25kmx25km.\n",
    "A continuación se lee la **temperatura máxima diaria** (`tmax.obs`) y la **humedad relativa media diaria** (`relhum.obs`). Hay distintas funciones para explorar los datos, una de ellas es `str` que nos muestra su estructura."
   ]
  },
  {
   "cell_type": "code",
   "execution_count": null,
   "id": "9f4ba083-4e64-442d-9e86-83f0b219b577",
   "metadata": {},
   "outputs": [],
   "source": [
    "tmax.obs <- get(load(\"../shared/data/curso_UNASAM/tasmax.era5.rda\", verbose=TRUE))\n",
    "relhum.obs <- get(load(\"../shared/data/curso_UNASAM/hurs.era5.rda\", verbose=TRUE))\n",
    "rm(hurs.era5, tasmax.era5)"
   ]
  },
  {
   "cell_type": "code",
   "execution_count": null,
   "id": "5b782c01-e357-48d4-8eb3-f9c3d57ff74c",
   "metadata": {},
   "outputs": [],
   "source": [
    "str(tmax.obs)"
   ]
  },
  {
   "cell_type": "markdown",
   "id": "928a7d57-3db1-415d-920a-8f35acd34619",
   "metadata": {},
   "source": [
    "Podemos observar que los datos vienen en una lista que contiene información de la variable (incluyendo unidades), los datos propiamente dichos, las coordenadas espaciales de la rejilla de los datos e información de las fechas. Notar que los datos forman un _array_ tridimensional, cuyas dimensiones se refieren a los tiempos, latitudes y longitudes. \n",
    "A continuación comprobamos cuál es el rango de fechas, y usamos `subsetGrid` para quedarnos con un periodo de 20 años en las dos variables (temperatura máxima y humedad relativa media diarias)."
   ]
  },
  {
   "cell_type": "code",
   "execution_count": null,
   "id": "3fe407e9-5ebf-45e6-bea2-3dbe9867d16c",
   "metadata": {},
   "outputs": [],
   "source": [
    "range(tmax.obs$Dates)"
   ]
  },
  {
   "cell_type": "code",
   "execution_count": null,
   "id": "d0deec24-4bc5-4bab-9afa-3caf6744305b",
   "metadata": {},
   "outputs": [],
   "source": [
    "tmax.obs <- subsetGrid(tmax.obs, years = 1986:2005)\n",
    "relhum.obs <- subsetGrid(relhum.obs, years = 1986:2005)"
   ]
  },
  {
   "cell_type": "markdown",
   "id": "09b1a323-8505-4026-a696-babbe9934efa",
   "metadata": {},
   "source": [
    "Por comodidad, vamos a pasar los datos de temperatura de Kelvin (K) a grados centígrados, usando la función `gridArithmetics` para restar por el valor adecuado."
   ]
  },
  {
   "cell_type": "code",
   "execution_count": null,
   "id": "4e730ad0-1e98-4689-bdef-e250b31d09af",
   "metadata": {},
   "outputs": [],
   "source": [
    "tmax.obs <- gridArithmetics(tmax.obs, 273.15, operator=\"-\")"
   ]
  },
  {
   "cell_type": "markdown",
   "id": "66e9f10a-e0f8-41e6-b81e-e02e9959d5b6",
   "metadata": {},
   "source": [
    "Para ver cuál es el patrón espacial de la temperatura máxima diaria en Perú, haremos un promedio temporal sobre los 20 años (lo denominamos **climatología**) con la función `climatology`y la representamos con `spatialPlot`. En la figura se observa claramente el efecto de la cordillera, de la costa y de la selva en la temperatura máxima diaria."
   ]
  },
  {
   "cell_type": "code",
   "execution_count": null,
   "id": "989354e7-02c2-4e56-984e-3cb6e9afe44f",
   "metadata": {},
   "outputs": [],
   "source": [
    "spatialPlot(climatology(tmax.obs), backdrop.theme = \"countries\", rev.colors = TRUE,  at= seq(5,35),\n",
    "            main= \"Temperatura maxima diaria observada (1986-2005)\")"
   ]
  },
  {
   "cell_type": "markdown",
   "id": "2fc19514-9998-4d5f-97c5-02cceb997a60",
   "metadata": {},
   "source": [
    "Análogamente para la humedad relativa:"
   ]
  },
  {
   "cell_type": "code",
   "execution_count": null,
   "id": "b7cda9b0-24d2-4e20-a2c2-47e54871719d",
   "metadata": {},
   "outputs": [],
   "source": [
    "spatialPlot(climatology(relhum.obs), backdrop.theme = \"countries\",  color.theme = \"GnBu\", at=seq(20,100,10),\n",
    "            main= \"Humedad media diaria observada (1986-2005)\")"
   ]
  },
  {
   "cell_type": "markdown",
   "id": "ae3a4e14-c3a6-49fa-b0c1-eaa0dd2d7020",
   "metadata": {},
   "source": [
    "En el caso de la humedad, hemos cambiado la barra de color para que sea acorde e intuitiva con la variable que pintamos. Para ello, se puede cambiar el argumento `color.theme` que admite las barras de color de [ColorBrewer](https://r-graph-gallery.com/38-rcolorbrewers-palettes.html)."
   ]
  },
  {
   "cell_type": "markdown",
   "id": "54761f4d-5c3d-47d0-ab41-cd61a38ff60e",
   "metadata": {},
   "source": [
    "## 3. Cálculo de índices de estrés térmico de las observaciones"
   ]
  },
  {
   "cell_type": "markdown",
   "id": "2219a65b-0fe7-4d4b-b31c-e8023db3d55d",
   "metadata": {},
   "source": [
    "Una vez tenemos listos los datos de temperatura y humedad relativa, calcularemos uno de los índices de estrés térmico disponibles en el paquete `HeatStress`, concretamente el _simplified wet bulb globe temperature_, que depende de la temperatura y de la humedad relativa y, como se ha visto en la sesión teórica, se utiliza habitualmente para estimar el estrés térmico en el población trabajadora. Este índice es el más utilizado en las normas ISO que proporcionan recomendaciones acerca de la exposición al calor de la población trabajadora. La función para calcular este índice es `swbgt`, cuyos argumentos de entrada son vectores, por lo que recorremos en dos bucles todos los puntos de la rejilla de datos para las dos variables."
   ]
  },
  {
   "cell_type": "code",
   "execution_count": null,
   "id": "5d0ef7f9-6eed-40d9-a464-30afefab067c",
   "metadata": {},
   "outputs": [],
   "source": [
    "wbgt.obs <- tmax.obs\n",
    "for(i in 1:dim(tmax.obs$Data)[2]){\n",
    "\tfor(j in 1:dim(tmax.obs$Data)[3]){\n",
    "\t\twbgt.obs$Data[,i,j]<- swbgt(tmax.obs$Data[,i,j], relhum.obs$Data[,i,j])\t\n",
    "\t}\n",
    "}"
   ]
  },
  {
   "cell_type": "markdown",
   "id": "77daf1a1-0bc9-498c-9107-28eecec6f1d3",
   "metadata": {},
   "source": [
    "Hacemos una representación de la climatología (promedio temporal) de la temperatura máxima junto con la del índice de estrés térmico. Notar que, a pesar de que ambas se expresan en grados centígrados, el índice de estrés térmico es sistemáticamente menor, por el efecto de la humedad relativa. "
   ]
  },
  {
   "cell_type": "code",
   "execution_count": null,
   "id": "46d1c1ef-c2c8-458c-b23f-35e6387b4517",
   "metadata": {},
   "outputs": [],
   "source": [
    "options(repr.plot.width=10, repr.plot.height=6) # cambia el tamaño de la imagen\n",
    "spatialPlot(makeMultiGrid(climatology(tmax.obs), climatology(wbgt.obs)), backdrop.theme = \"countries\", rev.colors = TRUE, \n",
    "            as.table=TRUE, names.attr=c(\"Temperatura máxima\", \"Estrés térmico\"), layout=c(2,1),\n",
    "            main= \"Temperatura y estrés térmico observado (1986-2005)\")"
   ]
  },
  {
   "cell_type": "markdown",
   "id": "6a327e49-9c07-4d2b-bf1d-ba4091676101",
   "metadata": {},
   "source": [
    "Además de analizar la climatología, podemos estudiar la frecuencia de ciertos eventos, por ejemplo, el número de días en que se superan ciertos umbrales cada año. En concreto usamos los umbrales de 26ºC y 28ºC que se relacionan con situaciones de riesgo para personas no aclimatadas y aclimatadas, respectivamente, que realizan una actividad física moderada. Para calcular el número de días en que se supera un umbral usamos la función `indexGrid`. Al indicar que la resolución temporal sea anual (`year`) obtenemos una serie con el número de días en que se supera cada umbral para cada uno de los 20 años (1986-2005)."
   ]
  },
  {
   "cell_type": "code",
   "execution_count": null,
   "id": "88a4d059-dc37-4811-8f23-b5393dc8907e",
   "metadata": {},
   "outputs": [],
   "source": [
    "wbgt26.obs <- indexGrid(tx = wbgt.obs, time.resolution = \"year\", index.code = \"TXth\", th=26)\n",
    "wbgt28.obs <- indexGrid(tx = wbgt.obs, time.resolution = \"year\", index.code = \"TXth\", th=28)"
   ]
  },
  {
   "cell_type": "markdown",
   "id": "04edb40d-2f36-481b-adfa-4245caa5b7cb",
   "metadata": {},
   "source": [
    "Analizamos la evolución temporal en el punto de la rejilla más cercano a la ciudad de Pucallpa, en la Amazonia peruana (latitud -8.379 y longitud -74.554), que se encuentra en la zona más afectada por estrés térmico. Para ello, en primer lugar, filtramos los valores para este punto con `subsetDimension` y representamos los resultados con `temporalPlot`."
   ]
  },
  {
   "cell_type": "code",
   "execution_count": null,
   "id": "ed4205c3-7e05-4fe0-9076-e0d087b7c847",
   "metadata": {},
   "outputs": [],
   "source": [
    "wbgt26.1grid <- subsetDimension(subsetDimension(wbgt26.obs, dimension = \"lat\", indices = 44), dimension = \"lon\", indices = 31)\n",
    "wbgt28.1grid <- subsetDimension(subsetDimension(wbgt28.obs, dimension = \"lat\", indices = 44), dimension = \"lon\", indices = 31)"
   ]
  },
  {
   "cell_type": "code",
   "execution_count": null,
   "id": "ab5896f9-4b88-4af1-b06b-be756a77ef93",
   "metadata": {},
   "outputs": [],
   "source": [
    "temporalPlot(wbgt26.1grid, wbgt28.1grid, cols=c(\"dodgerblue\",\"coral1\"), lwd = 3, \n",
    "\txyplot.custom = list(main = \"Evolución temporal del estrés térmico en Pucallpa\",  ylab= \"Nº de días\", scales=list(x=list(cex=1), y=list(cex=1)), \n",
    "                         key = list(space = \"right\", points = list(pch= 15, col = c(\"dodgerblue\",\"coral1\"), cex = 1.8), text = list(c(\"WBGT>26\",\"WBGT>28\"), cex = 1.5))))"
   ]
  },
  {
   "cell_type": "markdown",
   "id": "d3262e82-2ac5-498e-bbc8-9623e99dc2ca",
   "metadata": {},
   "source": [
    "Representamos la climatología (valor promedio de los 20 años) del número de días al año en que se exceden los umbrales para todos los puntos, usando de nuevo `spatialPlot`. Se observa que en amplias regiones se supera el umbral de 26ºC casi todos los días del año y el umbral de 28ºC al menos la mitad de los días del año."
   ]
  },
  {
   "cell_type": "code",
   "execution_count": null,
   "id": "7d873c06-98fb-46cd-84d9-8455c28d4323",
   "metadata": {},
   "outputs": [],
   "source": [
    "spatialPlot(makeMultiGrid(climatology(wbgt26.obs),climatology(wbgt28.obs)), backdrop.theme = \"countries\",  \n",
    "            as.table=TRUE, names.attr=c(\"No aclimatados (WBGT > 26)\", \"Aclimatados (WBGT > 28)\"), layout=c(2,1), \n",
    "            rev.colors = TRUE, main= \"Días con estrés térmico najo actividad moderada (1986-2005)\")"
   ]
  },
  {
   "cell_type": "markdown",
   "id": "afe8ba8c-6dc7-4fd4-9e44-3ba6ebd1992f",
   "metadata": {},
   "source": [
    "## 4. Datos de modelos climáticos"
   ]
  },
  {
   "cell_type": "markdown",
   "id": "7b641d1f-1440-4fda-93cc-0ee8c0c490c6",
   "metadata": {},
   "source": [
    "En esta sesión vamos a utilizar un **Modelo Regional del Clima**, concretamente _REMO2015_ anidado a un modelo global del clima (_MPI-ESM_LR_) desarrollado en una rejilla de resolución espacial 0.22ºx0.22º (similar a la de las observaciones). Dado que este modelo tiene una malla rotada, se ha interpolado previamente y de forma conservativa a la rejilla de la observación. Concretamente se van a utilizar dos tipos de simulaciones:  _histórica_ (1986-2005) y de _futuro_ para un escenario de emisiones fuertes de cambio climático. La segunda cubre desde 2006 a 2100, pero consideraremos un periodo de 20 años al final del siglo para aligerar los cálculos (2081-2100). Al igual que con las observaciones, consideraremos temperatura máxima y humedad relativa media diarias, aunque en esta sección nos centraremos en la temperatura máxima. \n",
    "Todos los datos del modelo se han desarrollado en el marco de la iniciativa **CORDEX** (https://cordex.org/) que coordina los esfuerzos internacionales en la generación de proyecciones climáticas a escala regional. "
   ]
  },
  {
   "cell_type": "markdown",
   "id": "3e7df32a-9f4d-4c37-9c15-0dd4a2aad5e0",
   "metadata": {},
   "source": [
    "### 4.1. Lectura de los datos"
   ]
  },
  {
   "cell_type": "markdown",
   "id": "a139c119-f2a2-4e29-af41-bcf63cac75d1",
   "metadata": {},
   "source": [
    "Dada la estructura más compleja de estos datos (distribuidos en numerosos archivos), utilizamos la función `loadGridData`, que permite leer la variable deseada y seleccionar en la lectura un periodo de tiempo y un dominio espacial."
   ]
  },
  {
   "cell_type": "code",
   "execution_count": null,
   "id": "4345b37c-f668-4e0f-a231-7ac77dd6b18f",
   "metadata": {},
   "outputs": [],
   "source": [
    "dataset.sim.hist <- \"../shared/data/ncml/ESGF/interp025/CORDEX/output/SAM-22/GERICS/MPI-M-MPI-ESM-LR/historical/r1i1p1/REMO2015/v1/day/CORDEX_output_SAM-22_GERICS_MPI-M-MPI-ESM-LR_historical_r1i1p1_REMO2015_v1_day.ncml\"\n",
    "dataset.sim.fut <-\"../shared/data/ncml/ESGF/interp025/CORDEX/output/SAM-22/GERICS/MPI-M-MPI-ESM-LR/rcp85/r1i1p1/REMO2015/v1/day/CORDEX_output_SAM-22_GERICS_MPI-M-MPI-ESM-LR_rcp85_r1i1p1_REMO2015_v1_day.ncml\""
   ]
  },
  {
   "cell_type": "code",
   "execution_count": null,
   "id": "59677ab4",
   "metadata": {},
   "outputs": [],
   "source": [
    "tmax.sim.hist <- loadGridData(dataset.sim.hist, var=\"tasmax\", years= 1986:2005, lonLim = c(-82, -68), latLim = c(1, -19))\n",
    "str(tmax.sim.hist)"
   ]
  },
  {
   "cell_type": "markdown",
   "id": "a448515e-fa48-4b7f-b021-6a7c59bbc8c2",
   "metadata": {},
   "source": [
    "Comprobamos como anteriormente que tenemos el periodo deseado, y que las observaciones y el modelo tienen la misma rejilla espacial. De lo contrario habría que hacer una intepolación espacial."
   ]
  },
  {
   "cell_type": "code",
   "execution_count": null,
   "id": "52e56a4f-5adb-4818-a15e-4a386e43d4a1",
   "metadata": {},
   "outputs": [],
   "source": [
    "range(tmax.sim.hist$Dates)"
   ]
  },
  {
   "cell_type": "code",
   "execution_count": null,
   "id": "d79dad8b-cba3-4f4d-8652-de69ba207c05",
   "metadata": {},
   "outputs": [],
   "source": [
    "str(tmax.sim.hist$xyCoords)\n",
    "str(tmax.obs$xyCoords)"
   ]
  },
  {
   "cell_type": "markdown",
   "id": "ca828d1e-2e0e-4ff5-bfa6-750a3a347a09",
   "metadata": {},
   "source": [
    "Análogamente, leemos los datos del periodo futuro de finales de siglo."
   ]
  },
  {
   "cell_type": "code",
   "execution_count": null,
   "id": "ecfe64d4-819a-4e3d-9908-66f3db381137",
   "metadata": {},
   "outputs": [],
   "source": [
    "tmax.sim.fut <- loadGridData(dataset.sim.fut, var=\"tasmax\", years= 2081:2100, lonLim = c(-82, -68), latLim = c(1, -19))\n",
    "str(tmax.sim.fut)"
   ]
  },
  {
   "cell_type": "markdown",
   "id": "12c7d8bd-6741-41e5-be60-2ed1386f7d32",
   "metadata": {},
   "source": [
    "### 4.2. Preparación de los datos"
   ]
  },
  {
   "cell_type": "markdown",
   "id": "966f9191-0433-40e4-be42-ce6683c68072",
   "metadata": {},
   "source": [
    "Por comodidad, hacemos un cambio de unidades para temperatura, de Kelvin a grados centígrados. Lo hacemos para los datos de la simulación histórica (periodo 1986-2005) y de la simulación de futuro (2081-2100)."
   ]
  },
  {
   "cell_type": "code",
   "execution_count": null,
   "id": "7f732f82-26ee-4c49-9976-d2e8ff467f35",
   "metadata": {},
   "outputs": [],
   "source": [
    "tmax.sim.hist <- gridArithmetics(tmax.sim.hist, 273.15, operator=\"-\")\n",
    "tmax.sim.fut <- gridArithmetics(tmax.sim.fut, 273.15, operator=\"-\")"
   ]
  },
  {
   "cell_type": "markdown",
   "id": "4a7d42ca-213e-483c-95d2-de24795e68b7",
   "metadata": {},
   "source": [
    "Al representar la climatología (valor promedio) de la temperatura máxima diaria en los dos periodos, comprobamos que con el paso del tiempo, el modelo muestra un calentamiento en toda la región."
   ]
  },
  {
   "cell_type": "code",
   "execution_count": null,
   "id": "585f029c",
   "metadata": {},
   "outputs": [],
   "source": [
    "spatialPlot(makeMultiGrid(climatology(tmax.sim.hist), climatology(tmax.sim.fut), skip.temporal.check=TRUE), backdrop.theme = \"countries\",\n",
    "            rev.colors = TRUE, at= seq(5,35), set.max=35,\n",
    "            as.table=TRUE, names.attr=c(\"Simulación histórica (1981-2005)\", \"Simulación futura (2081-2100)\"), layout=c(2,1),\n",
    "            main= \"Temperatura maxima diaria simulada\")"
   ]
  },
  {
   "cell_type": "markdown",
   "id": "01dbf28d-5368-4059-940b-e5134c7d98b8",
   "metadata": {},
   "source": [
    "### 4.2. Sesgos en las simulaciones de modelos"
   ]
  },
  {
   "cell_type": "markdown",
   "id": "0edebabc-be7f-4059-80f6-9128bc5a9489",
   "metadata": {},
   "source": [
    "Como se indicó anteriormente, las observaciones se usan a menudo para la **evaluación de modelos**. En esta sección mostramos distintos aspectos de la evaluación del modelo considerado. \n",
    "En primero lugar, podemos comparar las climatologías (valores promedio) del modelo y la observación en el periodo 1986-2005. En la figura se observa que el modelo muestra temperaturas más altas que la observación en la costa y en la zona de la selva y más bajas en algunos puntos de la cordillera."
   ]
  },
  {
   "cell_type": "code",
   "execution_count": null,
   "id": "b6909e66-a32a-43a5-b64b-af8966a53280",
   "metadata": {},
   "outputs": [],
   "source": [
    "spatialPlot(makeMultiGrid(climatology(tmax.obs), climatology(tmax.sim.hist)), backdrop.theme = \"countries\", \n",
    "            rev.colors = TRUE, at= seq(5,35), \n",
    "            as.table=TRUE, names.attr=c(\"Observación\", \"Modelo\"), layout=c(2,1),\n",
    "            main= \"Temperatura maxima diaria (1981-2005)\")"
   ]
  },
  {
   "cell_type": "markdown",
   "id": "e685b386-fa9f-4b12-b61a-24a0fb7a0cdd",
   "metadata": {},
   "source": [
    "Cuantificamos ese error en la media temporal calculando el sesgo (_modelo - observación_) usando la función `gridArithmetics`."
   ]
  },
  {
   "cell_type": "code",
   "execution_count": null,
   "id": "d8af9a36",
   "metadata": {},
   "outputs": [],
   "source": [
    "bias.tmax.raw <- gridArithmetics(climatology(tmax.sim.hist), climatology(tmax.obs),operator=\"-\")\n",
    "options(repr.plot.width=10, repr.plot.height=6) # cambia el tamaño de la imagen\n",
    "spatialPlot(bias.tmax.raw, backdrop.theme = \"countries\", \n",
    "            rev.colors = TRUE, at= seq(-10,10), \n",
    "            main= \"Sesgo medio en la temperatura maxima diaria (1981-2005)\")"
   ]
  },
  {
   "cell_type": "markdown",
   "id": "0b352c1d-295d-4380-bbaf-0bae76dd3ed7",
   "metadata": {},
   "source": [
    "Podemos analizar en detalle la distribución completa de los datos en un punto de la rejilla concreto. Aquí consideramos el punto más cercano a la ciudad de Huaraz (latitud -9.528, longitud -77.528). Representamos en la siguiente figura el histograma de la temperatura observada en gris y del modelo en rosa. Se observa que en este punto en concreto, el modelo tiene un sesgo positivo de aproximadamente 2ºC en la media, pero además la distribución del modelo tiene más variabilidad que la observación. "
   ]
  },
  {
   "cell_type": "code",
   "execution_count": null,
   "id": "03876b6c-9707-4cff-8380-49aa28f3c7f3",
   "metadata": {},
   "outputs": [],
   "source": [
    "hist(tmax.obs$Data[,39,19], col=rgb(0,0,0,,alpha=0.2), main=\"Distribución de datos en un punto cerca de Huaraz\", \n",
    "     xlab=\"Temperatura máxima\", xlim=c(0,25))\n",
    "hist(tmax.sim.hist$Data[,39,19],  col=rgb(1,0,0,,alpha=0.3), add=TRUE)\n",
    "legend(\"topleft\", legend=c(\"OBS\",\"SIM (HIST)\"), col=c(rgb(0,0,0,,alpha=0.2),rgb(1,0,0,,alpha=0.3)), \n",
    "       pch=16, pt.cex=2.5, horiz=FALSE, bty=\"n\",cex =1.5)"
   ]
  },
  {
   "cell_type": "markdown",
   "id": "cb662672-dbb9-4809-84e7-d6f03eb154b7",
   "metadata": {},
   "source": [
    "Estos son algunos ejemplos de evaluaciones sencillas que podemos llevar a cabo. A la vista de los errores cometidos, no es conveniente utilizar los modelos directamente para estudios de impacto. Por lo tanto, llevaremos a cabo la **corrección o ajuste de sesgos**."
   ]
  },
  {
   "cell_type": "markdown",
   "id": "27a92248-ced7-4a63-8ddd-97b35b07b155",
   "metadata": {},
   "source": [
    "## 5. Corrección de sesgos en la simulación histórica"
   ]
  },
  {
   "cell_type": "markdown",
   "id": "8836cf7a-48dd-4251-b3d3-6d090b03f7bf",
   "metadata": {},
   "source": [
    "Como se ha visto en la sesión de teoría, hay una variedad enorme de métodos que permiten corregir distintas partes de la distribución. En este ejemplo vamos a probar dos métodos y ver el efecto que tienen en distintos aspectos: _scaling_ y _empirical quantile mapping (eqm)_. Dado que la temperatura máxima es una variable que sigue una distribución gaussiana, en el primer caso se realizará una correccióna aditiva (desplazamiento de la distribución de los datos). Para entrenar y aplicar las corecciones de los dos métodos utilizaremos la función `biasCorrection`."
   ]
  },
  {
   "cell_type": "code",
   "execution_count": null,
   "id": "e4dcae12",
   "metadata": {},
   "outputs": [],
   "source": [
    "tmax.scaling.hist <- biasCorrection(y=tmax.obs, x=tmax.sim.hist, newdata= tmax.sim.hist, precipitation = FALSE, \n",
    "                             method=\"scaling\", scaling.type=\"additive\" ) # corrección solo de la media (aditiva para temperatura)\n",
    "tmax.eqm.hist <- biasCorrection(y=tmax.obs, x=tmax.sim.hist, newdata= tmax.sim.hist, precipitation = FALSE, \n",
    "                         method=\"eqm\", extrapolation = \"constant\", n.quantiles=99 )  # corrección de 99 percentiles"
   ]
  },
  {
   "cell_type": "markdown",
   "id": "36f3e6a8-0759-4696-aa48-dc0ce511f90b",
   "metadata": {},
   "source": [
    "### 5.1. Efecto de la corrección en la media"
   ]
  },
  {
   "cell_type": "markdown",
   "id": "9b5ea37f-8ebc-42e4-b882-41a422626c10",
   "metadata": {},
   "source": [
    "A continuación evaluamos el efecto que tienen las distintas correcciones en diversos aspectos, en primer lugar, en la media de la distribución de temperatura. Para ello, calculamos el sesgo como anteriormente como _modelo - observación_ y representamos el sesgo de los datos sin corregir (_raw_) y de los datos corregidos mediante los dos métodos (_scaling_ y _eqm_)."
   ]
  },
  {
   "cell_type": "code",
   "execution_count": null,
   "id": "9b38aca7",
   "metadata": {},
   "outputs": [],
   "source": [
    "bias.tmax.scaling <- gridArithmetics(climatology(tmax.scaling.hist), climatology(tmax.obs), operator=\"-\")\n",
    "bias.tmax.eqm <- gridArithmetics(climatology(tmax.eqm.hist), climatology(tmax.obs), operator=\"-\")"
   ]
  },
  {
   "cell_type": "code",
   "execution_count": null,
   "id": "6e35a44b",
   "metadata": {},
   "outputs": [],
   "source": [
    "spatialPlot(makeMultiGrid(bias.tmax.raw, bias.tmax.scaling, bias.tmax.eqm), backdrop.theme = \"countries\", \n",
    "            rev.colors = TRUE,  at= seq(-10,10), main= \"Sesgo en la temperatura máxima (promedio 1986-2005)\", layout=c(3,1),\n",
    "            as.table=TRUE, names.attr=c(\"RAW\", \"BC (scaling)\", \"BC (eqm)\"))"
   ]
  },
  {
   "cell_type": "markdown",
   "id": "5066c5ea-a184-4b01-a8f0-d2373d6fb7d9",
   "metadata": {},
   "source": [
    "Comprobamos que el sesgo medio se ha reducido prácticamente a cero al aplicar los dos tipos de correcciones."
   ]
  },
  {
   "cell_type": "markdown",
   "id": "729c8e92-8b41-4b68-8636-22306a3fe332",
   "metadata": {},
   "source": [
    "### 5.2. Efecto de la corrección en la distribución"
   ]
  },
  {
   "cell_type": "markdown",
   "id": "30345628-7004-47dc-9bde-73c4b0120578",
   "metadata": {},
   "source": [
    "A pesar de que los dos métodos corrigen, por construcción, la media de la distribución, no tienen el mismo efecto en otras partes de la distribución. Recordemos que _scaling_ solo corrige la media (centra la distribución), mientras que _eqm_ corrige los 99 percentiles. Podemos ver el efecto sobre toda la distribución en los siguientes histogramas, donde se ha tomado de nuevo el punto de la rejilla más cercano a Huaraz."
   ]
  },
  {
   "cell_type": "code",
   "execution_count": null,
   "id": "ac9ddf7e-42c9-4511-8477-0f1ed1ec1585",
   "metadata": {},
   "outputs": [],
   "source": [
    "options(repr.plot.width=15, repr.plot.height=6) # cambia el tamaño de la imagen\n",
    "par(mfrow=c(1,2))\n",
    "hist(tmax.obs$Data[,39,19], col=rgb(0,0,0,,alpha=0.2), main=\"Distribución de datos en un punto cerca de Huaraz\", \n",
    "     xlab=\"Temperatura máxima\", xlim=c(0,25))\n",
    "hist(tmax.scaling.hist$Data[,39,19],  col=rgb(1,0,0,,alpha=0.3), add=TRUE)\n",
    "legend(\"topleft\", legend=c(\"OBS\",\"SCALING\"), col=c(rgb(0,0,0,,alpha=0.2),rgb(1,0,0,,alpha=0.3)), pch=16,  pt.cex=2, horiz=FALSE, bty=\"n\")\n",
    "\n",
    "hist(tmax.obs$Data[,39,19], col=rgb(0,0,0,,alpha=0.2), main=\"Distribución de datos en un punto cerca de Huaraz\", \n",
    "     xlab=\"Temperatura máxima\", xlim=c(0,25))\n",
    "hist(tmax.eqm.hist$Data[,39,19],  col=rgb(1,0,0,,alpha=0.3), add=TRUE)\n",
    "legend(\"topleft\", legend=c(\"OBS\",\"EQM\"), col=c(rgb(0,0,0,,alpha=0.2),rgb(1,0,0,,alpha=0.3)), pch=16, pt.cex=2, horiz=FALSE, bty=\"n\")"
   ]
  },
  {
   "cell_type": "markdown",
   "id": "fa079ae3-9a8d-49d9-beb4-2ffe31a3e529",
   "metadata": {},
   "source": [
    "También comprobamos el efecto de las correcciones con un gŕafico _q-q plot_:"
   ]
  },
  {
   "cell_type": "code",
   "execution_count": null,
   "id": "c04dfaea-fd26-4c1a-9f13-b88bd7443be0",
   "metadata": {},
   "outputs": [],
   "source": [
    "options(repr.plot.width=6, repr.plot.height=6)\n",
    "x <- quantile(tmax.obs$Data[,39,19], seq(0.01,0.99,0.01), na.rm=T)\n",
    "y <- quantile(tmax.sim.hist$Data[,39,19], seq(0.01,0.99,0.01), na.rm=T)\n",
    "z <- quantile(tmax.scaling.hist$Data[,39,19], seq(0.01,0.99,0.01), na.rm=T)\n",
    "w <- quantile(tmax.eqm.hist$Data[,39,19], seq(0.01,0.99,0.01), na.rm=T)\n",
    "\n",
    "lims <- range(c(x,y,z))\n",
    "plot(x,y, ylim=lims,xlim=lims, pch=16, xlab=NA, ylab=NA,asp=1, las=1)\n",
    "par(new=T)\n",
    "plot(x,z, ylim=lims,xlim=lims, pch=16, xlab=NA, ylab=NA,asp=1, las=1, col=\"dodgerblue\")\n",
    "par(new=T)\n",
    "plot(x,w, ylim=lims,xlim=lims, pch=16, xlab=\"Observed percentiles\", ylab=\"Simulated percentiles\", col=\"coral1\", cex.lab=1.5, asp=1, las=1)\n",
    "lines(lims,lims, col=\"lightgrey\", lty=2)\n",
    "legend(\"bottomright\", legend=c(\"RAW\",\"SCALING\",\"EQM\"), col=c(\"black\",\"dodgerblue\",\"coral1\"), pch=16, xpd=TRUE,horiz=FALSE, cex=1.5, bty=\"n\")"
   ]
  },
  {
   "cell_type": "markdown",
   "id": "66fae4de-a787-42bd-98dd-363d56fdea44",
   "metadata": {},
   "source": [
    "### 5.3. Efecto de la corrección en la superación de umbrales"
   ]
  },
  {
   "cell_type": "markdown",
   "id": "5f5250b4-d100-4387-ab51-18ec9d5bee21",
   "metadata": {},
   "source": [
    "Dado que _eqm_ corrige los 99 percentiles, para una evaluación justa deberíamos evaluar algún aspecto que no haya ajustado explícitamente, por ejemplo, la frecuencia de superación de umbrales absolutos. Consideramos, por ejemplo, el número de días con tamperatura máxima por encima de 35ºC, calculados año a año con la función `indexGrid` para las observaciones, el modelo sin corregir (_raw_) y el modelo corregido por los dos métodos (_scaling_ y _eqm_):"
   ]
  },
  {
   "cell_type": "code",
   "execution_count": null,
   "id": "8f37d8dc",
   "metadata": {},
   "outputs": [],
   "source": [
    "tx35.obs <- indexGrid(tx = tmax.obs, time.resolution = \"year\", index.code = \"TXth\", th=35)\n",
    "tx35.raw.hist <- indexGrid(tx = tmax.sim.hist, time.resolution = \"year\", index.code = \"TXth\", th=35)\n",
    "# biasCorrection devuelve fechas en un formato distinto que no funciona en indexGrid (ponemos fechas de RAW)\n",
    "tmax.scaling.hist$Dates <- tmax.sim.hist$Dates\n",
    "tmax.eqm.hist$Dates <- tmax.sim.hist$Dates\n",
    "tx35.scaling.hist <- indexGrid(tx = tmax.scaling.hist, time.resolution = \"year\", index.code = \"TXth\", th=35)\n",
    "tx35.eqm.hist <- indexGrid(tx = tmax.eqm.hist, time.resolution = \"year\", index.code = \"TXth\", th=35)"
   ]
  },
  {
   "cell_type": "markdown",
   "id": "b9ce8971-f96d-4a1d-ad03-bf45b163140c",
   "metadata": {},
   "source": [
    "A continuación, calculamos el sesgo en la climatología (media interanual) del número de días con temperatura máxima por encima de 35ºC con `gridArithmetics`(_modelo - observación_) y se representa con `spatialPlot`."
   ]
  },
  {
   "cell_type": "code",
   "execution_count": null,
   "id": "556be290-68de-4fbc-a2f3-55efafb317e5",
   "metadata": {},
   "outputs": [],
   "source": [
    "bias.tx35.raw <- gridArithmetics(climatology(tx35.raw.hist), climatology(tx35.obs), operator=\"-\")\n",
    "bias.tx35.scaling <- gridArithmetics(climatology(tx35.scaling.hist), climatology(tx35.obs), operator=\"-\")\n",
    "bias.tx35.eqm <- gridArithmetics(climatology(tx35.eqm.hist), climatology(tx35.obs), operator=\"-\")"
   ]
  },
  {
   "cell_type": "code",
   "execution_count": null,
   "id": "b1b5b13f",
   "metadata": {},
   "outputs": [],
   "source": [
    "options(repr.plot.width=10, repr.plot.height=6)\n",
    "spatialPlot(makeMultiGrid(bias.tx35.raw, bias.tx35.scaling, bias.tx35.eqm), backdrop.theme = \"countries\", \n",
    "            rev.colors = TRUE,  at= seq(-70,70,5), main= \"Sesgo en TX35\", layout=c(3,1),\n",
    "            as.table=TRUE, names.attr=c(\"RAW\", \"BC (scaling)\", \"BC (eqm)\"))"
   ]
  },
  {
   "cell_type": "markdown",
   "id": "57b37570-5c5a-4ac6-a9d2-359fb33995d0",
   "metadata": {},
   "source": [
    "Se comprueba que el modelo sin corregir (_raw_) tenía un sesgo muy alto y positivo de este indicador (sobrestimación de más de 40 días al año), _scaling_ reduce este sesgo pero todavía sobrestima con más de 20 días al año y _eqm_ presenta sesgos mucho más bajos de pocos días."
   ]
  },
  {
   "cell_type": "code",
   "execution_count": null,
   "id": "91b37db0-27a5-45e0-bac7-5cad8c36e327",
   "metadata": {},
   "outputs": [],
   "source": [
    "rm(tx35.scaling.hist, bias.tx35.scaling, bias.tmax.raw, bias.tmax.scaling, bias.tmax.eqm, bias.tx35.eqm, bias.tx35.raw)"
   ]
  },
  {
   "cell_type": "markdown",
   "id": "bc05162b-7059-4add-87c1-74242959b79a",
   "metadata": {},
   "source": [
    "## 6. Corrección de sesgos la simulación de futuro"
   ]
  },
  {
   "cell_type": "markdown",
   "id": "63c5aef1-beb5-44b5-a512-6cfb850dd2d2",
   "metadata": {},
   "source": [
    "Después de realizar la evaluación considerando distintos aspectos, aplicamos el método _eqm_ a la simulación de futuro, para tener los valores de temperatura máxima diaria ajustada/corregida para el futuro. Para ello, seguimos usando la función `biasCorrection` pero en el argumento `newdata` introducimos los datos del modelo en la simulación de futuro. De esta manera, se calibra la corrección entre la observación y la simulación histórica, y se aplica sobre los datos de futuro."
   ]
  },
  {
   "cell_type": "code",
   "execution_count": null,
   "id": "a79946f1",
   "metadata": {},
   "outputs": [],
   "source": [
    "tmax.eqm.fut <- biasCorrection(y=tmax.obs, x=tmax.sim.hist, newdata= tmax.sim.fut, precipitation = FALSE, \n",
    "                         method=\"eqm\", extrapolation = \"constant\", n.quantiles=99)  # corrección de 99 percentiles"
   ]
  },
  {
   "cell_type": "markdown",
   "id": "01e6ccf8-00ec-4043-b05e-8608b298d8a9",
   "metadata": {},
   "source": [
    "### 6.1. Efecto de la corrección en la señal de cambio climático"
   ]
  },
  {
   "cell_type": "markdown",
   "id": "6139a50e-263c-431c-bb55-a49cdfd7b767",
   "metadata": {},
   "source": [
    "Dependiendo del método de corrección que se use, se puede producir una modificación de la señal de cambio climático original del modelo. Llamamos **señal de cambio climático** (_climate change signal, ccs_) al cambio que proyecta el modelo en el futuro respecto a su histórico (_futuro - histórico_). Concretamente, _eqm_ por construcción puede dar lugar a estar modificaciones. Analizamos cuál es el efecto de la corrección con _eqm_ en la señal de cambio climático."
   ]
  },
  {
   "cell_type": "code",
   "execution_count": null,
   "id": "09a8d816-bfd6-40dd-9ced-962099cf11d9",
   "metadata": {},
   "outputs": [],
   "source": [
    "ccs.tmax.raw <- gridArithmetics(climatology(tmax.sim.fut), climatology(tmax.sim.hist), operator=\"-\")\n",
    "ccs.tmax.eqm <- gridArithmetics(climatology(tmax.eqm.fut), climatology(tmax.eqm.hist), operator=\"-\")"
   ]
  },
  {
   "cell_type": "code",
   "execution_count": null,
   "id": "5caf1931-54ab-4844-9ac8-924991bd91f1",
   "metadata": {},
   "outputs": [],
   "source": [
    "spatialPlot(makeMultiGrid(ccs.tmax.raw, ccs.tmax.eqm), backdrop.theme = \"countries\", color.theme = \"YlOrRd\",\n",
    "            main= \"Señal de cambio en la temperatura máxima diaria (2081-2100 wrt 1986-2005)\", \n",
    "            layout=c(2,1), as.table=TRUE, names.attr=c(\"RAW\", \"EQM\"))"
   ]
  },
  {
   "cell_type": "markdown",
   "id": "c7edef5e-361d-40e4-ba18-4b401063e9e7",
   "metadata": {},
   "source": [
    "Ambas señales son positivas en todo el dominio (aumenta la temperatura máxima). Se observa que _eqm_ está atenuando la señal original del modelo en la media de la distribución."
   ]
  },
  {
   "cell_type": "markdown",
   "id": "5ce2b28e-95f3-432c-8eac-9afda516ef1a",
   "metadata": {},
   "source": [
    "Análogamente, analizamos el efecto en el número de días con temperatura máxima por encima de 35ºC."
   ]
  },
  {
   "cell_type": "code",
   "execution_count": null,
   "id": "604520ed-6a79-4e4c-bc00-a9b499d59d15",
   "metadata": {},
   "outputs": [],
   "source": [
    "tx35.raw.fut <- indexGrid(tx = tmax.sim.fut, time.resolution = \"year\", index.code = \"TXth\", th=35)\n",
    "tmax.eqm.fut$Dates <- tmax.sim.fut$Dates\n",
    "tx35.eqm.fut <- indexGrid(tx = tmax.eqm.fut, time.resolution = \"year\", index.code = \"TXth\", th=35)"
   ]
  },
  {
   "cell_type": "code",
   "execution_count": null,
   "id": "20cf585a-faec-47c2-9096-ed0dae506935",
   "metadata": {},
   "outputs": [],
   "source": [
    "ccs.tx35.raw <- gridArithmetics(climatology(tx35.raw.fut), climatology(tx35.raw.hist), operator=\"-\")\n",
    "ccs.tx35.eqm <- gridArithmetics(climatology(tx35.eqm.fut), climatology(tx35.eqm.hist), operator=\"-\")"
   ]
  },
  {
   "cell_type": "code",
   "execution_count": null,
   "id": "03cb5c4a-cc98-4af0-8592-62f57886990b",
   "metadata": {},
   "outputs": [],
   "source": [
    "spatialPlot(makeMultiGrid(ccs.tx35.raw, ccs.tx35.eqm), backdrop.theme = \"countries\", color.theme = \"YlOrRd\",\n",
    "            main= \"Señal de cambio en TX35 (2081-2100 wrt 1986-2005)\", \n",
    "            layout=c(2,1), as.table=TRUE, names.attr=c(\"RAW\", \"EQM\"))"
   ]
  },
  {
   "cell_type": "markdown",
   "id": "085dc4c8-8053-40e7-9c2f-bb6520acfc8d",
   "metadata": {},
   "source": [
    "También se observa que _eqm_ reduce la señal que proyecta el modelo, pasando de incrementos de más de 100 días a incrementos de alrededor de 50 días. Aun así, ambas señales dan un aumento en el número de días con temperatura máxima por encima de 35ºC."
   ]
  },
  {
   "cell_type": "markdown",
   "id": "17cc5fe0-9fa2-408b-874e-136fe242d269",
   "metadata": {},
   "source": [
    "## 7. Corrección de los datos de humedad relativa"
   ]
  },
  {
   "cell_type": "markdown",
   "id": "c08f5b5c-87e1-4d3e-9c21-f6eb4b6dca19",
   "metadata": {},
   "source": [
    "Ahora que conocemos el efecto de la corrección sobre la simulación histórica (reducir sesgos) y sobre la señal de cambio climático (en este modelo con _eqm_, reducir la señal original), continuamos con el **objetivo de obtener proyecciones corregidas de un índice de estrés térmico**. Para ello, en primer lugar, tenemos que leer los datos de humedad relativa, de la simulación histórica y de la simulación de futuro, y corregirlos usando el método _eqm_."
   ]
  },
  {
   "cell_type": "code",
   "execution_count": null,
   "id": "4b9fa645-349b-4bde-b1ad-b69258e9d249",
   "metadata": {},
   "outputs": [],
   "source": [
    "relhum.sim.hist <- loadGridData(dataset.sim.hist, var=\"hurs\", years= 1986:2005, lonLim = c(-82, -68), latLim = c(1, -19))\n",
    "relhum.sim.fut <- loadGridData(dataset.sim.fut, var=\"hurs\", years= 2081:2100, lonLim = c(-82, -68), latLim = c(1, -19))"
   ]
  },
  {
   "cell_type": "code",
   "execution_count": null,
   "id": "2fca1e29-0e00-4c10-a16e-b1d1c49bf15e",
   "metadata": {},
   "outputs": [],
   "source": [
    "relhum.eqm.hist <- biasCorrection(y=relhum.obs, x=relhum.sim.hist, newdata= relhum.sim.hist, precipitation = FALSE, \n",
    "                         method=\"eqm\", extrapolation = \"constant\", n.quantiles=99 )  # corrección de 99 percentiles"
   ]
  },
  {
   "cell_type": "code",
   "execution_count": null,
   "id": "157d1f4e",
   "metadata": {},
   "outputs": [],
   "source": [
    "relhum.eqm.fut <- biasCorrection(y=relhum.obs, x=relhum.sim.hist, newdata= relhum.sim.fut, precipitation = FALSE, \n",
    "                         method=\"eqm\", extrapolation = \"constant\", n.quantiles=99 )  # corrección de 99 percentiles"
   ]
  },
  {
   "cell_type": "markdown",
   "id": "4bd2ae52-4707-40dd-95a0-6d6e309277b2",
   "metadata": {},
   "source": [
    "## 8. Cálculo de estrés térmico con datos del modelo ajustado"
   ]
  },
  {
   "cell_type": "markdown",
   "id": "c2a7a7d5-2876-4a30-83ae-4b370d1b9acc",
   "metadata": {},
   "source": [
    "Una vez tenemos los datos del modelo de temperatura y humedad corregidos, calculamos el índice de estrés térmico, el _simplified wet bulb globe temperature (swgt)_ como hicimos para las observaciones, para la simulación histórica corregida (1986-2005) y para la simulación de futuro (2081-2100)."
   ]
  },
  {
   "cell_type": "code",
   "execution_count": null,
   "id": "32574b4c",
   "metadata": {},
   "outputs": [],
   "source": [
    "wbgt.eqm.hist <- tmax.eqm.hist\n",
    "for(i in 1:dim(tmax.eqm.hist$Data)[2]){\n",
    "\tfor(j in 1:dim(tmax.eqm.hist$Data)[3]){\n",
    "\t\twbgt.eqm.hist$Data[,i,j]<- swbgt(tmax.eqm.hist$Data[,i,j], relhum.eqm.hist$Data[,i,j])\t\n",
    "\t}\n",
    "}"
   ]
  },
  {
   "cell_type": "code",
   "execution_count": null,
   "id": "2c357f74-d117-4f4c-a359-4a8b5a65e918",
   "metadata": {},
   "outputs": [],
   "source": [
    "wbgt.eqm.fut <- tmax.eqm.fut\n",
    "for(i in 1:dim(tmax.eqm.fut$Data)[2]){\n",
    "\tfor(j in 1:dim(tmax.eqm.fut$Data)[3]){\n",
    "\t\twbgt.eqm.fut$Data[,i,j]<- swbgt(tmax.eqm.fut$Data[,i,j], relhum.eqm.fut$Data[,i,j])\t\n",
    "\t}\n",
    "}"
   ]
  },
  {
   "cell_type": "markdown",
   "id": "33aecf59-b4bf-412a-9b7c-78631c7a391a",
   "metadata": {},
   "source": [
    "### 8.1. Cambios en el estrés térmico medio"
   ]
  },
  {
   "cell_type": "markdown",
   "id": "0b5e90b8-1a7f-4016-a9a3-b557bdd22855",
   "metadata": {},
   "source": [
    "Vamos a cuantificar el cambio en el _swbgt_ medio calculando la diferencia entre el valor promedio en el futuro y en el histórico (señal de cambio) , usando `gridArithmetics`. "
   ]
  },
  {
   "cell_type": "code",
   "execution_count": null,
   "id": "b8279486",
   "metadata": {},
   "outputs": [],
   "source": [
    "ccs.wbgt <- gridArithmetics(climatology(wbgt.eqm.fut), climatology(wbgt.eqm.hist), operator=\"-\")"
   ]
  },
  {
   "cell_type": "code",
   "execution_count": null,
   "id": "24b6db4f",
   "metadata": {},
   "outputs": [],
   "source": [
    "spatialPlot(ccs.wbgt, backdrop.theme = \"countries\", \n",
    "            color.theme = \"YlOrRd\",\n",
    "            main=  \"Señal de cambio en estrés térmico (2081-2100 wrt 1986-2005)\")"
   ]
  },
  {
   "cell_type": "markdown",
   "id": "5b51184d-b977-4128-879e-c16b70a4d237",
   "metadata": {},
   "source": [
    "Observamos un patrón espacial muy parecido al que se obtenía para el cambio medio en la temperatura."
   ]
  },
  {
   "cell_type": "markdown",
   "id": "5cf631f8-5c65-43b5-9c97-ba396b971f5f",
   "metadata": {},
   "source": [
    "### 8.2. Cambios en la superación de umbrales relevantes"
   ]
  },
  {
   "cell_type": "markdown",
   "id": "bc5ccfa4-1bed-4434-9d28-671e5f4c79d1",
   "metadata": {},
   "source": [
    "Como se comentaba inicialmente, la corrección o ajuste de sesgos es especialmente importante cuando se trabaja con la superación de umbrales absolutos. Nos interesa conocer cómo evolucionará en el futuro el número de días con _swbgt_ superior a 26ºC y 28ºC, que habíamos analizado en la sección 3 con las observaciones. De nuevo usamos `indexGrid` para calcular el indicador, para las simulaciones histórica y futura corregidas."
   ]
  },
  {
   "cell_type": "code",
   "execution_count": null,
   "id": "34fa2bfc",
   "metadata": {},
   "outputs": [],
   "source": [
    "wbgt26.eqm.hist <- indexGrid(tx = wbgt.eqm.hist, time.resolution = \"year\", index.code = \"TXth\", th=26)\n",
    "wbgt26.eqm.fut <- indexGrid(tx = wbgt.eqm.fut, time.resolution = \"year\", index.code = \"TXth\", th=26)\n",
    "wbgt28.eqm.hist <- indexGrid(tx = wbgt.eqm.hist, time.resolution = \"year\", index.code = \"TXth\", th=28)\n",
    "wbgt28.eqm.fut <- indexGrid(tx = wbgt.eqm.fut, time.resolution = \"year\", index.code = \"TXth\", th=28)"
   ]
  },
  {
   "cell_type": "markdown",
   "id": "995ea680-5d08-47f6-b1cb-6d88bde5dd3c",
   "metadata": {},
   "source": [
    "La siguiente figura representa en filas los dos niveles de estrés térmico considerados (_swbgt_ > 26ºC para personas no aclimatadas, _swbgt_>28ºC para personas aclimatadas), y en columnas los resultados en el periodo histórico (muy similar a los valores observados) y en el periodo futuro (2081-2100). En el futuro, las dos situaciones se vuelven más frecuentes y en las regiones del este del dominio se extenderán a prácticamente todo el año."
   ]
  },
  {
   "cell_type": "code",
   "execution_count": null,
   "id": "b03a4a44",
   "metadata": {},
   "outputs": [],
   "source": [
    "options(repr.plot.width=12, repr.plot.height=10)\n",
    "spatialPlot(makeMultiGrid(climatology(wbgt26.eqm.hist),climatology(wbgt26.eqm.fut), climatology(wbgt28.eqm.hist),climatology(wbgt28.eqm.fut), skip.temporal.check = TRUE),\n",
    "            backdrop.theme = \"countries\", as.table=TRUE, layout=c(2,2), \n",
    "            names.attr=c(\"No aclimatados histórico (WBGT > 26)\", \"No aclimatados futuro (WBGT > 26)\", \"Aclimatados histórico (WBGT > 28)\", \"Aclimatados futuro (WBGT > 28)\"), \n",
    "            rev.colors = TRUE, main= \"Días con estrés térmico  (1986-2005 y 2081-2100)\")"
   ]
  },
  {
   "cell_type": "markdown",
   "id": "d9e1780d-3a09-4025-b410-a60243dc6581",
   "metadata": {},
   "source": [
    "Analizamos la evolución temporal en el periodo futuro en Pucallpa, una localidad ya afectada por estrés térmico en la actualidad."
   ]
  },
  {
   "cell_type": "code",
   "execution_count": null,
   "id": "ac32a7fc-1b02-4490-b91a-5eaccd10c621",
   "metadata": {},
   "outputs": [],
   "source": [
    "wbgt26.fut.1grid <- subsetDimension(subsetDimension(wbgt26.eqm.fut, dimension = \"lat\", indices = 44), dimension = \"lon\", indices = 31)\n",
    "wbgt28.fut.1grid <- subsetDimension(subsetDimension(wbgt28.eqm.fut, dimension = \"lat\", indices = 44), dimension = \"lon\", indices = 31)"
   ]
  },
  {
   "cell_type": "code",
   "execution_count": null,
   "id": "611e17ea-bbd3-4644-9191-48f76e907864",
   "metadata": {},
   "outputs": [],
   "source": [
    "temporalPlot(wbgt26.fut.1grid,wbgt28.fut.1grid, cols=c(\"dodgerblue\",\"coral1\"), lwd = 3, \n",
    "\txyplot.custom = list(main = \"Evolución temporal del estrés térmico en Pucallpa\",  ylab= \"Nº de días\", scales=list(x=list(cex=1), y=list(cex=1)), \n",
    "                         key = list(space = \"right\", points = list(pch= 15, col = c(\"dodgerblue\",\"coral1\"), cex = 1.8), text = list(c(\"WBGT>26 FUT\",\"WBGT>28 FUT\"), cex = 1.5))))"
   ]
  },
  {
   "cell_type": "markdown",
   "id": "438ec6e9-8411-4310-9374-69a1cd661e19",
   "metadata": {},
   "source": [
    "## 9. Consideraciones finales"
   ]
  },
  {
   "cell_type": "markdown",
   "id": "9a5e875f-5dbe-4f22-b48a-050af8617031",
   "metadata": {},
   "source": [
    "Se debe tener en cuenta, en cualquier estudio de cambio climático, que se deben considerar distintas simulaciones de modelos para poder dar una estimación robusta y fiable de los cambios proyectados. Es decir, se trabaja habitualmente con rangos de incertidumbre, que cubren los resultados de distintos modelos, no un valor único. Asimismo, se deben considerar distintos métodos de ajuste de sesgos, ya que cada uno de ellos puede tener un efecto distinto en la señal de cambio original del modelo."
   ]
  },
  {
   "cell_type": "markdown",
   "id": "68ca503f-98c6-476f-8546-365774c8d2a0",
   "metadata": {},
   "source": [
    "## 10. Ejercicios propuestos"
   ]
  },
  {
   "cell_type": "markdown",
   "id": "570bd019-7c4a-49f4-86d0-e74a05cf95d5",
   "metadata": {},
   "source": [
    "* Realiza el análisis para otro índice de estrés térmico que también dependa de temperatura máxima y humedad relativa media diarias. ¿Obtienes las mismas conclusiones?\n",
    "* Realiza el análisis para otro método de corrección de sesgos. ¿Modifica de la misma manera la señal de cambio del índice?\n",
    "* En esta práctica se ha analizado una sola simulación (modelo regional REMO2015 anidado al modelo global MPI-ESM-MR). Realiza el análisis para otros modelos regionales. Observarás que los sesgos de los modelos sin corregir (_raw_) dependen enormemente del modelo.\n",
    "\n",
    "  Prueba con otro modelo regional anidado al mismo modelo global:\n",
    "  * dataset.sim.hist <-\"../shared/data/ncml/ESGF/interp025/CORDEX/output/SAM-22/ICTP/**MPI-M-MPI-ESM-MR**/historical/r1i1p1/**RegCM4-7**/v0/day/CORDEX_output_SAM-22_ICTP_MPI-M-MPI-ESM-MR_historical_r1i1p1_RegCM4-7_v0_day.ncml\"\n",
    "  * dataset.sim.fut <-\"../shared/data/ncml/ESGF/interp025/CORDEX/output/SAM-22/ICTP/**MPI-M-MPI-ESM-MR**/rcp85/r1i1p1/**RegCM4-7**/v0/day/CORDEX_output_SAM-22_ICTP_MPI-M-MPI-ESM-MR_rcp85_r1i1p1_RegCM4-7_v0_day.ncml\"\n",
    "    \n",
    "\n",
    "  Y prueba con el mismo modelo regional anidado a otro modelo global:\n",
    "  * dataset.sim.hist <-\"../shared/data/ncml/ESGF/interp025/CORDEX/output/SAM-22/GERICS/**NCC-NorESM1-M**/historical/r1i1p1/**REMO2015**/v1/day/CORDEX_output_SAM-22_GERICS_NCC-NorESM1-M_historical_r1i1p1_REMO2015_v1_day.ncml\"\n",
    "  * dataset.sim.fut <-\"../shared/data/ncml/ESGF/interp025/CORDEX/output/SAM-22/GERICS/**NCC-NorESM1-M**/rcp85/r1i1p1/**REMO2015**/v1/day/CORDEX_output_SAM-22_GERICS_NCC-NorESM1-M_rcp85_r1i1p1_REMO2015_v1_day.ncml\""
   ]
  }
 ],
 "metadata": {
  "kernelspec": {
   "display_name": "R",
   "language": "R",
   "name": "ir"
  },
  "language_info": {
   "codemirror_mode": "r",
   "file_extension": ".r",
   "mimetype": "text/x-r-source",
   "name": "R",
   "pygments_lexer": "r",
   "version": "4.3.3"
  }
 },
 "nbformat": 4,
 "nbformat_minor": 5
}
